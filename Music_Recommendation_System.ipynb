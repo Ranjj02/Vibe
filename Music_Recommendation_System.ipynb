{
  "cells": [
    {
      "cell_type": "code",
      "execution_count": 81,
      "metadata": {
        "id": "q_uFmvEvSL5f"
      },
      "outputs": [],
      "source": [
        "import os\n",
        "import numpy as np\n",
        "import pandas as pd\n",
        "\n",
        "import seaborn as sns\n",
        "import plotly.express as px\n",
        "import matplotlib.pyplot as plt\n",
        "%matplotlib inline\n",
        "\n",
        "from sklearn.cluster import KMeans\n",
        "from sklearn.preprocessing import StandardScaler\n",
        "from sklearn.pipeline import Pipeline\n",
        "from sklearn.manifold import TSNE\n",
        "from sklearn.decomposition import PCA\n",
        "from sklearn.metrics import euclidean_distances\n",
        "from scipy.spatial.distance import cdist\n",
        "\n",
        "import warnings\n",
        "warnings.filterwarnings(\"ignore\")"
      ]
    },
    {
      "cell_type": "code",
      "execution_count": null,
      "metadata": {
        "id": "-rAwZ6rNTIqG"
      },
      "outputs": [],
      "source": [
        "data = pd.read_csv(\"data.csv\")\n",
        "#genre_data = pd.read_csv('data_by_genres.csv')\n",
        "#year_data = pd.read_csv('data_by_year.csv')"
      ]
    },
    {
      "cell_type": "code",
      "execution_count": 83,
      "metadata": {
        "colab": {
          "base_uri": "https://localhost:8080/"
        },
        "id": "8WrXHdgqTNnu",
        "outputId": "d3621882-ed15-42c7-99a0-37fdab3d6ef5"
      },
      "outputs": [
        {
          "name": "stdout",
          "output_type": "stream",
          "text": [
            "<class 'pandas.core.frame.DataFrame'>\n",
            "RangeIndex: 170653 entries, 0 to 170652\n",
            "Data columns (total 19 columns):\n",
            " #   Column            Non-Null Count   Dtype  \n",
            "---  ------            --------------   -----  \n",
            " 0   valence           170653 non-null  float64\n",
            " 1   year              170653 non-null  int64  \n",
            " 2   acousticness      170653 non-null  float64\n",
            " 3   artists           170653 non-null  object \n",
            " 4   danceability      170653 non-null  float64\n",
            " 5   duration_ms       170653 non-null  int64  \n",
            " 6   energy            170653 non-null  float64\n",
            " 7   explicit          170653 non-null  int64  \n",
            " 8   id                170653 non-null  object \n",
            " 9   instrumentalness  170653 non-null  float64\n",
            " 10  key               170653 non-null  int64  \n",
            " 11  liveness          170653 non-null  float64\n",
            " 12  loudness          170653 non-null  float64\n",
            " 13  mode              170653 non-null  int64  \n",
            " 14  name              170653 non-null  object \n",
            " 15  popularity        170653 non-null  int64  \n",
            " 16  release_date      170653 non-null  object \n",
            " 17  speechiness       170653 non-null  float64\n",
            " 18  tempo             170653 non-null  float64\n",
            "dtypes: float64(9), int64(6), object(4)\n",
            "memory usage: 24.7+ MB\n",
            "None\n"
          ]
        }
      ],
      "source": [
        "print(data.info())"
      ]
    },
    {
      "cell_type": "code",
      "execution_count": 84,
      "metadata": {
        "colab": {
          "base_uri": "https://localhost:8080/"
        },
        "id": "6LQi-vxVTRzX",
        "outputId": "3da5960f-e105-493e-fb39-c9b005bbeb1e"
      },
      "outputs": [
        {
          "name": "stdout",
          "output_type": "stream",
          "text": [
            "<class 'pandas.core.frame.DataFrame'>\n",
            "RangeIndex: 2973 entries, 0 to 2972\n",
            "Data columns (total 14 columns):\n",
            " #   Column            Non-Null Count  Dtype  \n",
            "---  ------            --------------  -----  \n",
            " 0   mode              2973 non-null   int64  \n",
            " 1   genres            2973 non-null   object \n",
            " 2   acousticness      2973 non-null   float64\n",
            " 3   danceability      2973 non-null   float64\n",
            " 4   duration_ms       2973 non-null   float64\n",
            " 5   energy            2973 non-null   float64\n",
            " 6   instrumentalness  2973 non-null   float64\n",
            " 7   liveness          2973 non-null   float64\n",
            " 8   loudness          2973 non-null   float64\n",
            " 9   speechiness       2973 non-null   float64\n",
            " 10  tempo             2973 non-null   float64\n",
            " 11  valence           2973 non-null   float64\n",
            " 12  popularity        2973 non-null   float64\n",
            " 13  key               2973 non-null   int64  \n",
            "dtypes: float64(11), int64(2), object(1)\n",
            "memory usage: 325.3+ KB\n",
            "None\n"
          ]
        }
      ],
      "source": [
        "print(genre_data.info())"
      ]
    },
    {
      "cell_type": "code",
      "execution_count": 85,
      "metadata": {
        "colab": {
          "base_uri": "https://localhost:8080/"
        },
        "id": "EWjRvGfQTU36",
        "outputId": "ae3f7d05-1c10-4be9-e5c2-f61902812623"
      },
      "outputs": [
        {
          "name": "stdout",
          "output_type": "stream",
          "text": [
            "<class 'pandas.core.frame.DataFrame'>\n",
            "RangeIndex: 100 entries, 0 to 99\n",
            "Data columns (total 14 columns):\n",
            " #   Column            Non-Null Count  Dtype  \n",
            "---  ------            --------------  -----  \n",
            " 0   mode              100 non-null    int64  \n",
            " 1   year              100 non-null    int64  \n",
            " 2   acousticness      100 non-null    float64\n",
            " 3   danceability      100 non-null    float64\n",
            " 4   duration_ms       100 non-null    float64\n",
            " 5   energy            100 non-null    float64\n",
            " 6   instrumentalness  100 non-null    float64\n",
            " 7   liveness          100 non-null    float64\n",
            " 8   loudness          100 non-null    float64\n",
            " 9   speechiness       100 non-null    float64\n",
            " 10  tempo             100 non-null    float64\n",
            " 11  valence           100 non-null    float64\n",
            " 12  popularity        100 non-null    float64\n",
            " 13  key               100 non-null    int64  \n",
            "dtypes: float64(11), int64(3)\n",
            "memory usage: 11.1 KB\n",
            "None\n"
          ]
        }
      ],
      "source": [
        "print(year_data.info())"
      ]
    },
    {
      "cell_type": "code",
      "execution_count": 86,
      "metadata": {
        "id": "T7LbZf-YWPWv"
      },
      "outputs": [],
      "source": [
        "from sklearn.pipeline import make_pipeline\n",
        "from sklearn.cluster import KMeans\n",
        "from sklearn.preprocessing import StandardScaler\n",
        "\n",
        "# Assuming genre_data is a DataFrame and np has been imported as numpy\n",
        "\n",
        "# Create a pipeline and fit it in one go\n",
        "cluster_pipeline = make_pipeline(StandardScaler(), KMeans(n_clusters=10))\n",
        "genre_data['cluster'] = cluster_pipeline.fit_predict(genre_data.select_dtypes(include=[np.number]))\n"
      ]
    },
    {
      "cell_type": "code",
      "execution_count": null,
      "metadata": {
        "colab": {
          "base_uri": "https://localhost:8080/",
          "height": 695
        },
        "id": "o0Cwu2FLWTEz",
        "outputId": "fa7b46c1-7e65-48e6-ff3d-3cfd2c9a0aa1"
      },
      "outputs": [
        {
          "name": "stdout",
          "output_type": "stream",
          "text": [
            "[t-SNE] Computing 91 nearest neighbors...\n",
            "[t-SNE] Indexed 2973 samples in 0.002s...\n",
            "[t-SNE] Computed neighbors for 2973 samples in 0.247s...\n",
            "[t-SNE] Computed conditional probabilities for sample 1000 / 2973\n",
            "[t-SNE] Computed conditional probabilities for sample 2000 / 2973\n",
            "[t-SNE] Computed conditional probabilities for sample 2973 / 2973\n",
            "[t-SNE] Mean sigma: 0.820969\n",
            "[t-SNE] KL divergence after 250 iterations with early exaggeration: 69.799072\n",
            "[t-SNE] KL divergence after 1000 iterations: 1.163755\n"
          ]
        }
      ],
      "source": [
        "from sklearn.manifold import TSNE\n",
        "from sklearn.pipeline import make_pipeline\n",
        "from sklearn.preprocessing import StandardScaler\n",
        "import pandas as pd\n",
        "import plotly.express as px\n",
        "\n",
        "# Create a pipeline and apply t-SNE transformation in one step\n",
        "tsne_pipeline = make_pipeline(StandardScaler(), TSNE(n_components=2, verbose=1, random_state=42))\n",
        "projection = pd.DataFrame(tsne_pipeline.fit_transform(genre_data.select_dtypes(include=[np.number])),\n",
        "                          columns=['x', 'y'])\n",
        "projection['genres'] = genre_data['genres']\n",
        "projection['cluster'] = genre_data['cluster']\n",
        "\n",
        "# Create the scatter plot\n",
        "fig = px.scatter(projection, x='x', y='y', color='cluster', hover_data=['genres'])\n",
        "#fig.show()\n"
      ]
    },
    {
      "cell_type": "code",
      "execution_count": 88,
      "metadata": {
        "id": "pt2wlqLCWa7U"
      },
      "outputs": [],
      "source": [
        "song_cluster_pipeline = Pipeline([('scaler', StandardScaler()),\n",
        "                                  ('kmeans', KMeans(n_clusters=20,\n",
        "                                   verbose=False))\n",
        "                                 ], verbose=False)\n",
        "\n",
        "X = data.select_dtypes(np.number)\n",
        "number_cols = list(X.columns)\n",
        "song_cluster_pipeline.fit(X)\n",
        "song_cluster_labels = song_cluster_pipeline.predict(X)\n",
        "data['cluster_label'] = song_cluster_labels"
      ]
    },
    {
      "cell_type": "code",
      "execution_count": 89,
      "metadata": {
        "colab": {
          "base_uri": "https://localhost:8080/",
          "height": 542
        },
        "id": "687q1Hiod-Dp",
        "outputId": "54576d63-284f-44a7-f3d1-1f6f6d27bcc2"
      },
      "outputs": [],
      "source": [
        "from sklearn.decomposition import PCA\n",
        "\n",
        "pca_pipeline = Pipeline([('scaler', StandardScaler()), ('PCA', PCA(n_components=2))])\n",
        "song_embedding = pca_pipeline.fit_transform(X)\n",
        "projection = pd.DataFrame(columns=['x', 'y'], data=song_embedding)\n",
        "projection['title'] = data['name']\n",
        "projection['cluster'] = data['cluster_label']\n",
        "\n",
        "fig = px.scatter(\n",
        "    projection, x='x', y='y', color='cluster', hover_data=['x', 'y', 'title'])\n",
        "#fig.show()\n"
      ]
    },
    {
      "cell_type": "code",
      "execution_count": 94,
      "metadata": {
        "id": "TEl1JgEoeUW4"
      },
      "outputs": [],
      "source": [
        "import spotipy\n",
        "from spotipy.oauth2 import SpotifyClientCredentials\n",
        "from collections import defaultdict\n",
        "\n",
        "sp = spotipy.Spotify(auth_manager=SpotifyClientCredentials(client_id='3b6445d11279474baabf3cc18333e025',\n",
        "                                                           client_secret='726f6e72f659452c818cb09e8b7905d4'))\n",
        "\n",
        "\n",
        "\n",
        "def find_song(name, year):\n",
        "    song_data = defaultdict()\n",
        "    results = sp.search(q= 'track: {} year: {}'.format(name,year), limit=1)\n",
        "    if results['tracks']['items'] == []:\n",
        "        return None\n",
        "\n",
        "    results = results['tracks']['items'][0]\n",
        "    track_id = results['id']\n",
        "    audio_features = sp.audio_features(track_id)[0]\n",
        "\n",
        "    song_data['name'] = [name]\n",
        "    song_data['year'] = [year]\n",
        "    song_data['explicit'] = [int(results['explicit'])]\n",
        "    song_data['duration_ms'] = [results['duration_ms']]\n",
        "    song_data['popularity'] = [results['popularity']]\n",
        "\n",
        "    for key, value in audio_features.items():\n",
        "        song_data[key] = value\n",
        "\n",
        "    return pd.DataFrame(song_data)"
      ]
    },
    {
      "cell_type": "code",
      "execution_count": 95,
      "metadata": {
        "id": "0wyrXzTSkstl"
      },
      "outputs": [],
      "source": [
        "from collections import defaultdict\n",
        "from sklearn.metrics import euclidean_distances\n",
        "from scipy.spatial.distance import cdist\n",
        "import difflib\n",
        "\n",
        "number_cols = ['valence', 'year', 'acousticness', 'danceability', 'duration_ms', 'energy', 'explicit',\n",
        " 'instrumentalness', 'key', 'liveness', 'loudness', 'mode', 'popularity', 'speechiness', 'tempo']\n",
        "\n",
        "\n",
        "def get_song_data(song, spotify_data):\n",
        "    try:\n",
        "        song_data = spotify_data[(spotify_data['name'] == song['name'])\n",
        "                                & (spotify_data['year'] == song['year'])].iloc[0]\n",
        "        return song_data\n",
        "    except IndexError:\n",
        "        fallback = find_song(song['name'], song['year'])\n",
        "        if fallback is not None:\n",
        "            return fallback\n",
        "        else:\n",
        "            print(f\"Warning: Song '{song['name']}' ({song['year']}) not found in Spotify or database.\")\n",
        "            return None\n",
        "\n",
        "\n",
        "\n",
        "def get_mean_vector(song_list, spotify_data):\n",
        "\n",
        "    song_vectors = []\n",
        "\n",
        "    for song in song_list:\n",
        "        song_data = get_song_data(song, spotify_data)\n",
        "        if song_data is None:\n",
        "            print('Warning: {} does not exist in Spotify or in database'.format(song['name']))\n",
        "            continue\n",
        "        song_vector = song_data[number_cols].values\n",
        "        song_vectors.append(song_vector)\n",
        "\n",
        "    song_matrix = np.array(list(song_vectors))\n",
        "    return np.mean(song_matrix, axis=0)\n",
        "\n",
        "\n",
        "def flatten_dict_list(dict_list):\n",
        "\n",
        "    flattened_dict = defaultdict()\n",
        "    for key in dict_list[0].keys():\n",
        "        flattened_dict[key] = []\n",
        "\n",
        "    for dictionary in dict_list:\n",
        "        for key, value in dictionary.items():\n",
        "            flattened_dict[key].append(value)\n",
        "\n",
        "    return flattened_dict\n",
        "\n",
        "\n",
        "def recommend_songs( song_list, spotify_data, n_songs=10):\n",
        "\n",
        "    metadata_cols = ['name', 'year', 'artists']\n",
        "    song_dict = flatten_dict_list(song_list)\n",
        "\n",
        "    song_center = get_mean_vector(song_list, spotify_data)\n",
        "    scaler = song_cluster_pipeline.steps[0][1]\n",
        "    scaled_data = scaler.transform(spotify_data[number_cols])\n",
        "    scaled_song_center = scaler.transform(song_center.reshape(1, -1))\n",
        "    distances = cdist(scaled_song_center, scaled_data, 'cosine')\n",
        "    index = list(np.argsort(distances)[:, :n_songs][0])\n",
        "\n",
        "    rec_songs = spotify_data.iloc[index]\n",
        "    rec_songs = rec_songs[~rec_songs['name'].isin(song_dict['name'])]\n",
        "    return rec_songs[metadata_cols].to_dict(orient='records')"
      ]
    },
    {
      "cell_type": "code",
      "execution_count": 96,
      "metadata": {
        "id": "ERfvSdclkyhj"
      },
      "outputs": [
        {
          "data": {
            "text/plain": [
              "[{'name': 'Amour plastique', 'year': 2018, 'artists': \"['Videoclub']\"},\n",
              " {'name': 'Dance Me To The End Of Love',\n",
              "  'year': 2004,\n",
              "  'artists': \"['Madeleine Peyroux']\"},\n",
              " {'name': 'Suelta Mi Mano', 'year': 2005, 'artists': \"['Sin Bandera']\"},\n",
              " {'name': 'Moondust - EP Version',\n",
              "  'year': 2013,\n",
              "  'artists': \"['Jaymes Young']\"},\n",
              " {'name': 'All We Do', 'year': 2015, 'artists': \"['Oh Wonder']\"},\n",
              " {'name': 'Eloise', 'year': 2019, 'artists': \"['Penny and Sparrow']\"},\n",
              " {'name': 'Party Girl', 'year': 2020, 'artists': \"['StaySolidRocky']\"},\n",
              " {'name': 'better off',\n",
              "  'year': 2018,\n",
              "  'artists': \"['Jeremy Zucker', 'Chelsea Cutler']\"},\n",
              " {'name': 'Forest Fires', 'year': 2016, 'artists': \"['Axel Flóvent']\"}]"
            ]
          },
          "execution_count": 96,
          "metadata": {},
          "output_type": "execute_result"
        }
      ],
      "source": [
        "recommend_songs([{'name': 'The Devil Wears a Suit and Tie', 'year':2015}],  data)"
      ]
    },
    
